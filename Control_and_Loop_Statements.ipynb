{
  "nbformat": 4,
  "nbformat_minor": 0,
  "metadata": {
    "colab": {
      "name": "Control and Loop Statements.ipynb",
      "provenance": [],
      "authorship_tag": "ABX9TyMsxF/xU5g99ispzrQTSNn6",
      "include_colab_link": true
    },
    "kernelspec": {
      "name": "python3",
      "display_name": "Python 3"
    },
    "language_info": {
      "name": "python"
    }
  },
  "cells": [
    {
      "cell_type": "markdown",
      "metadata": {
        "id": "view-in-github",
        "colab_type": "text"
      },
      "source": [
        "<a href=\"https://colab.research.google.com/github/rafaelaquinoo/Numerical-Methods-58019/blob/main/Control_and_Loop_Statements.ipynb\" target=\"_parent\"><img src=\"https://colab.research.google.com/assets/colab-badge.svg\" alt=\"Open In Colab\"/></a>"
      ]
    },
    {
      "cell_type": "markdown",
      "source": [
        "**IF STATEMENT**"
      ],
      "metadata": {
        "id": "joX17HMLCf5Y"
      }
    },
    {
      "cell_type": "code",
      "execution_count": 1,
      "metadata": {
        "colab": {
          "base_uri": "https://localhost:8080/"
        },
        "id": "kwd4_PVjCZlk",
        "outputId": "a4f522b7-6d07-4bc2-f4c1-241181a18e4b"
      },
      "outputs": [
        {
          "output_type": "stream",
          "name": "stdout",
          "text": [
            "b is greater than a\n"
          ]
        }
      ],
      "source": [
        "a = 12\n",
        "b = 100\n",
        "\n",
        "if b>a:\n",
        "  print(\"b is greater than a\")"
      ]
    },
    {
      "cell_type": "markdown",
      "source": [
        "**ELIF STATEMENT**"
      ],
      "metadata": {
        "id": "vlGwLlgTCiQI"
      }
    },
    {
      "cell_type": "code",
      "source": [
        "if b<a:\n",
        "  print(\"b is greater than a\")\n",
        "elif a>b:\n",
        "  print(\"a is greater than b\")"
      ],
      "metadata": {
        "id": "g0AV3F5WCkle"
      },
      "execution_count": 2,
      "outputs": []
    },
    {
      "cell_type": "markdown",
      "source": [
        "**ELSE STATEMENT**"
      ],
      "metadata": {
        "id": "Z4MrUj8_Clyn"
      }
    },
    {
      "cell_type": "code",
      "source": [
        "if b<a:\n",
        "  print(\"b is greater than a\")\n",
        "elif a>b:\n",
        "  print(\"a is greater than b\")\n",
        "else:\n",
        "  print(\"a is equal to b\")"
      ],
      "metadata": {
        "colab": {
          "base_uri": "https://localhost:8080/"
        },
        "id": "EQDcdUoaCnX4",
        "outputId": "9d483ae0-b406-4437-93d9-bf8258842b91"
      },
      "execution_count": 3,
      "outputs": [
        {
          "output_type": "stream",
          "name": "stdout",
          "text": [
            "a is equal to b\n"
          ]
        }
      ]
    },
    {
      "cell_type": "markdown",
      "source": [
        "**SHORT HAND IF STATEMENT**"
      ],
      "metadata": {
        "id": "KEZp5PfMCpzo"
      }
    },
    {
      "cell_type": "code",
      "source": [
        "a = 12\n",
        "b = 100\n",
        "if b>a: print(\"b is greater than a\")"
      ],
      "metadata": {
        "colab": {
          "base_uri": "https://localhost:8080/"
        },
        "id": "J-5LkfVMCqCw",
        "outputId": "5a0bbf8f-bd65-41e8-e1ba-0aa6cbddff7e"
      },
      "execution_count": 4,
      "outputs": [
        {
          "output_type": "stream",
          "name": "stdout",
          "text": [
            "b is greater than a\n"
          ]
        }
      ]
    },
    {
      "cell_type": "markdown",
      "source": [
        "**SHORT HAND IF..ELSE STATEMENT**"
      ],
      "metadata": {
        "id": "9K3Znke5CtUI"
      }
    },
    {
      "cell_type": "code",
      "source": [
        "c = 35\n",
        "d = 40\n",
        "\n",
        "print(\"c is greater than d\") if c>d else print(\"d is greater than c\")"
      ],
      "metadata": {
        "colab": {
          "base_uri": "https://localhost:8080/"
        },
        "id": "fZsssPBeCtgY",
        "outputId": "126d190c-29dd-47be-830a-bec66b15dec1"
      },
      "execution_count": 5,
      "outputs": [
        {
          "output_type": "stream",
          "name": "stdout",
          "text": [
            "d is greater than c\n"
          ]
        }
      ]
    },
    {
      "cell_type": "markdown",
      "source": [
        "**AND LOGIC - IF BOTH STATEMENTS OR OPERANDS ARE TRUE**"
      ],
      "metadata": {
        "id": "pe-fpLbzCvUQ"
      }
    },
    {
      "cell_type": "code",
      "source": [
        "c = 35\n",
        "d = 40\n",
        "e = 30\n",
        "\n",
        "if d>c and c>e:\n",
        "  print(\"Both conditions must be True\")"
      ],
      "metadata": {
        "colab": {
          "base_uri": "https://localhost:8080/"
        },
        "id": "52CfnBFnCwxA",
        "outputId": "588cd2ed-48d7-49b2-8a1c-dc65597a80cc"
      },
      "execution_count": 6,
      "outputs": [
        {
          "output_type": "stream",
          "name": "stdout",
          "text": [
            "Both conditions must be True\n"
          ]
        }
      ]
    },
    {
      "cell_type": "markdown",
      "source": [
        "**OR LOGIC - IF ONE OF THE OPERANDS IS TRUE**"
      ],
      "metadata": {
        "id": "-QGmGni5CzPo"
      }
    },
    {
      "cell_type": "code",
      "source": [
        "if d>c or e>c:\n",
        "  print(\"If one of the two operand is True\")"
      ],
      "metadata": {
        "colab": {
          "base_uri": "https://localhost:8080/"
        },
        "id": "7BOVFTGcC0zQ",
        "outputId": "fb561ecc-b722-49d7-cc44-1c68ebbb27f5"
      },
      "execution_count": 7,
      "outputs": [
        {
          "output_type": "stream",
          "name": "stdout",
          "text": [
            "If one of the two operand is True\n"
          ]
        }
      ]
    },
    {
      "cell_type": "markdown",
      "source": [
        "**NESTED IF**"
      ],
      "metadata": {
        "id": "qHEGSo4sDuiR"
      }
    },
    {
      "cell_type": "code",
      "source": [
        "x = int(input())\n",
        "\n",
        "if x>10:\n",
        "  print(\"x is above 10\")\n",
        "  if x>20:\n",
        "    print(\"x is above 20\")\n",
        "    if x>30:\n",
        "     print(\"x is above 30\")\n",
        "     if x>40:\n",
        "      print(\"x is above 40\")\n",
        "    else:\n",
        "      print(\"x is not above 40\")\n",
        "  else:\n",
        "    print(\"x is not above 30\")\n",
        "else:\n",
        "  print(\"x is not above 20\")"
      ],
      "metadata": {
        "colab": {
          "base_uri": "https://localhost:8080/"
        },
        "id": "SC_bu9l1DviJ",
        "outputId": "7cbee678-ff57-4eaf-de8c-4678a8aa3c30"
      },
      "execution_count": 8,
      "outputs": [
        {
          "output_type": "stream",
          "name": "stdout",
          "text": [
            "23\n",
            "x is above 10\n",
            "x is above 20\n",
            "x is not above 40\n"
          ]
        }
      ]
    },
    {
      "cell_type": "markdown",
      "source": [
        ""
      ],
      "metadata": {
        "id": "PluQnuNpG5DB"
      }
    },
    {
      "cell_type": "markdown",
      "source": [
        "**APPLICATION 1**- Write a program that determines if the input age is qualified to vote or not. The qualifying age is 18 years old and above\n",
        "\n"
      ],
      "metadata": {
        "id": "NARqmw14DxEo"
      }
    },
    {
      "cell_type": "code",
      "source": [
        "age = int(input())\n",
        "\n",
        "if age >=18:\n",
        "  print(\"You are qualified to vote\")\n",
        "else:\n",
        "  print(\"You are not qualified to vote\")"
      ],
      "metadata": {
        "colab": {
          "base_uri": "https://localhost:8080/"
        },
        "id": "w8U2AFb3DyGq",
        "outputId": "0f00841d-73e4-4388-abe9-09d9a428b058"
      },
      "execution_count": 9,
      "outputs": [
        {
          "output_type": "stream",
          "name": "stdout",
          "text": [
            "23\n",
            "You are qualified to vote\n"
          ]
        }
      ]
    },
    {
      "cell_type": "markdown",
      "source": [
        "**APPLICATION 2** - Write a program that determines if the input number is POSITIVE, NEGATIVE, or Zero."
      ],
      "metadata": {
        "id": "7NVyCW5-DzOo"
      }
    },
    {
      "cell_type": "code",
      "source": [
        "input_number = int(input())\n",
        "\n",
        "if input_number > 0:\n",
        "  print('The number is positive.')\n",
        "elif input_number < 0:\n",
        "  print('The number is negative.')\n",
        "else:\n",
        "  print('The number is zero.')"
      ],
      "metadata": {
        "colab": {
          "base_uri": "https://localhost:8080/"
        },
        "id": "mAHNTqMND0Q5",
        "outputId": "e7efe507-74bf-4333-b929-64c8e59ade02"
      },
      "execution_count": 10,
      "outputs": [
        {
          "output_type": "stream",
          "name": "stdout",
          "text": [
            "23\n",
            "The number is positive.\n"
          ]
        }
      ]
    },
    {
      "cell_type": "markdown",
      "source": [
        "**FOR LOOP STATEMENT**"
      ],
      "metadata": {
        "id": "aR8eKnOmD16A"
      }
    },
    {
      "cell_type": "code",
      "source": [
        "week =[\"Sunday\",\"Monday\",\"Tuesday\",\"Wednesday\",\"Thursday\",\"Friday\",\"Saturday\"]\n",
        "\n",
        "for x in week:\n",
        "  print(x)"
      ],
      "metadata": {
        "colab": {
          "base_uri": "https://localhost:8080/"
        },
        "id": "qCeihxxID3lK",
        "outputId": "9a4e1f1a-3f7a-4ce3-b011-db73af616d59"
      },
      "execution_count": 11,
      "outputs": [
        {
          "output_type": "stream",
          "name": "stdout",
          "text": [
            "Sunday\n",
            "Monday\n",
            "Tuesday\n",
            "Wednesday\n",
            "Thursday\n",
            "Friday\n",
            "Saturday\n"
          ]
        }
      ]
    },
    {
      "cell_type": "markdown",
      "source": [
        "**THE BREAK STATEMENT**"
      ],
      "metadata": {
        "id": "EHE7Rf4BD4nI"
      }
    },
    {
      "cell_type": "code",
      "source": [
        "for x in week:\n",
        "  print(x)\n",
        "\n",
        "  if x == \"Thursday\":\n",
        "       break"
      ],
      "metadata": {
        "colab": {
          "base_uri": "https://localhost:8080/"
        },
        "id": "7rVNE8m1D5eo",
        "outputId": "5d3e5fa5-c305-41b5-c7f0-4775eb0da601"
      },
      "execution_count": 12,
      "outputs": [
        {
          "output_type": "stream",
          "name": "stdout",
          "text": [
            "Sunday\n",
            "Monday\n",
            "Tuesday\n",
            "Wednesday\n",
            "Thursday\n"
          ]
        }
      ]
    },
    {
      "cell_type": "markdown",
      "source": [
        "**WHILE LOOP**"
      ],
      "metadata": {
        "id": "8dmXchEJD6wo"
      }
    },
    {
      "cell_type": "code",
      "source": [
        "y = 3\n",
        "\n",
        "while y<6:\n",
        "  print(y)\n",
        "  if y ==3:\n",
        "    break\n",
        "    y+=1"
      ],
      "metadata": {
        "colab": {
          "base_uri": "https://localhost:8080/"
        },
        "id": "jManapAbD6-g",
        "outputId": "b3d178cd-79d6-427f-ff11-019394a2371b"
      },
      "execution_count": 13,
      "outputs": [
        {
          "output_type": "stream",
          "name": "stdout",
          "text": [
            "3\n"
          ]
        }
      ]
    }
  ]
}